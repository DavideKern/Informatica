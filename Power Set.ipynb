{
 "cells": [
  {
   "cell_type": "code",
   "execution_count": null,
   "metadata": {},
   "outputs": [],
   "source": [
    "def P(A):\n",
    "    if len(A) == 0:             #base della ricorsione\n",
    "        return [[]]\n",
    "\n",
    "    else:\n",
    "        P1 = P( A[:len(A)-1] )  #P1 è l'insieme delle parti di A\\{n}\n",
    "        n = [ A[len(A)-1] ]     #n è il singoletto dell'ultimo elemento di A\n",
    "        Pn = []\n",
    "        for a in P1:            #costruisco Pn come l'insieme di tutti gli insiemi di P1, i quali però vengono muniti di n\n",
    "            Pn.append(a+n)\n",
    "\n",
    "    return P1+Pn                #a questo punto, P(A) sarà formato da tutti e soli gli elementi di P1 + quelli di Pn"
   ]
  },
  {
   "cell_type": "code",
   "execution_count": null,
   "metadata": {
    "scrolled": true
   },
   "outputs": [],
   "source": [
    "from time import time\n",
    "\n",
    "A=[]\n",
    "n=0\n",
    "print('Inserisci gli elementi di A. Invia un blank per fermarti.')\n",
    "print('Non saranno accettati più di 22 caratteri (#P(A) = 4 194 304).')\n",
    "print('Non sarà mostrata la partizione di insiemi con più di 14 elementi (#P(A) = 16 384).\\n')\n",
    "\n",
    "a=input()\n",
    "while a!='':\n",
    "    A.append(a)\n",
    "    n+=1\n",
    "    if n==22:\n",
    "        break\n",
    "    a=input()   \n",
    "print('A =',A,'\\n')\n",
    "\n",
    "t=time()\n",
    "L=P(A)\n",
    "t=time()-t\n",
    "if n<=14:\n",
    "    print('P(A) =',L,'\\n')\n",
    "print('#A =',len(A),'\\n#P(A) =',len(P(A)),'\\nTempo di esecuzione: t =',round(t,8),'s.')"
   ]
  },
  {
   "cell_type": "code",
   "execution_count": null,
   "metadata": {},
   "outputs": [],
   "source": []
  }
 ],
 "metadata": {
  "kernelspec": {
   "display_name": "Python 3",
   "language": "python",
   "name": "python3"
  },
  "language_info": {
   "codemirror_mode": {
    "name": "ipython",
    "version": 3
   },
   "file_extension": ".py",
   "mimetype": "text/x-python",
   "name": "python",
   "nbconvert_exporter": "python",
   "pygments_lexer": "ipython3",
   "version": "3.7.6"
  }
 },
 "nbformat": 4,
 "nbformat_minor": 4
}
