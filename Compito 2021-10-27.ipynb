{
 "cells": [
  {
   "cell_type": "code",
   "execution_count": 1,
   "metadata": {},
   "outputs": [
    {
     "data": {
      "text/plain": [
       "\"\\nSia data la funzione f(x) = e^-x^2 - e^-(x-3)^2 nell'intervallo [-4,6]:\\n\\n-si tracci il grafico di f e della sua primitiva g(x) rispetto a= -4;\\n-si determini il punto di massimo xM di g e la sua larghezza a metà altezza.\\n\""
      ]
     },
     "execution_count": 1,
     "metadata": {},
     "output_type": "execute_result"
    }
   ],
   "source": [
    "'''\n",
    "Sia data la funzione f(x) = e^-x^2 - e^-(x-3)^2 nell'intervallo [-4,6]:\n",
    "\n",
    "-si tracci il grafico di f e della sua primitiva g(x) rispetto a= -4;\n",
    "-si determini il punto di massimo xM di g e la sua larghezza a metà altezza.\n",
    "'''"
   ]
  },
  {
   "cell_type": "code",
   "execution_count": 2,
   "metadata": {},
   "outputs": [
    {
     "data": {
      "text/plain": [
       "'\\n\"\"\"\\nCreated on Wed Oct 27 15:19:09 2021\\n\\n@author: aury5\\n\"\"\"\\n\\nimport numpy as np\\nimport matplotlib.pyplot as plt\\n\\n#Aurora D\\'Arco N85001804-esame informatica 27 ottobre 2021\\n\\ne = np.exp\\nn = 1000\\nb = 6\\na = -4\\n\\ndef f(x):\\n    y = e(-(x**2))-e(-((x-3)**2))\\n    return y\\n\\nx = np.linspace(a,b,1000,True)\\ny = np.zeros(1000)\\nfor i in range(1000):\\n    y[i] = f(x[i])\\nplt.plot(x,y)\\n   \\ndef g(x1):\\n      s = 0\\n      h = (x1-a)/n\\n      for i in range(1000):\\n          s += (f((h*i)-4)+(f((h*(i+1))-4)))*h/2\\n      return s\\n \\nx1 = np.linspace(a,b,1000,True) \\ny1 = np.zeros(1000)   \\nfor i in range(1000):\\n    y1[i] = g(x1[i])\\nplt.plot(x1,y1)\\n\\ng_max = np.max(y1)\\nindice1 = np.where(y1 == g_max)\\nx_max = x1[indice1]\\nprint(\"il valore di x per cui g(x) è massima è: \" + str(x_max))\\n\\ndef larg_mazza_alt():\\n    y2 = g_max/2\\n    x2 = []\\n    for i in range(n-1):\\n        if g(x1[i]) < y2 and g(x1[i+1]) > y2:\\n            x2.append(x1[i])\\n        elif g(x1[i]) > y2 and g(x1[i+1]) < y2:\\n            x2.append(x1[i])\\n        else:\\n            continue\\n    return np.abs(x2[1]-x2[0])\\nprint(\"il valore della larghezza a mezza altezza è :\"+ str(larg_mazza_alt()))\\n'"
      ]
     },
     "execution_count": 2,
     "metadata": {},
     "output_type": "execute_result"
    }
   ],
   "source": [
    "#Svolgimento di Aurora D'Arco\n",
    "\n",
    "'''\n",
    "\"\"\"\n",
    "Created on Wed Oct 27 15:19:09 2021\n",
    "\n",
    "@author: aury5\n",
    "\"\"\"\n",
    "\n",
    "import numpy as np\n",
    "import matplotlib.pyplot as plt\n",
    "\n",
    "#Aurora D'Arco N85001804-esame informatica 27 ottobre 2021\n",
    "\n",
    "e = np.exp\n",
    "n = 1000\n",
    "b = 6\n",
    "a = -4\n",
    "\n",
    "def f(x):\n",
    "    y = e(-(x**2))-e(-((x-3)**2))\n",
    "    return y\n",
    "\n",
    "x = np.linspace(a,b,1000,True)\n",
    "y = np.zeros(1000)\n",
    "for i in range(1000):\n",
    "    y[i] = f(x[i])\n",
    "plt.plot(x,y)\n",
    "   \n",
    "def g(x1):\n",
    "      s = 0\n",
    "      h = (x1-a)/n\n",
    "      for i in range(1000):\n",
    "          s += (f((h*i)-4)+(f((h*(i+1))-4)))*h/2\n",
    "      return s\n",
    " \n",
    "x1 = np.linspace(a,b,1000,True) \n",
    "y1 = np.zeros(1000)   \n",
    "for i in range(1000):\n",
    "    y1[i] = g(x1[i])\n",
    "plt.plot(x1,y1)\n",
    "\n",
    "g_max = np.max(y1)\n",
    "indice1 = np.where(y1 == g_max)\n",
    "x_max = x1[indice1]\n",
    "print(\"il valore di x per cui g(x) è massima è: \" + str(x_max))\n",
    "\n",
    "def larg_mazza_alt():\n",
    "    y2 = g_max/2\n",
    "    x2 = []\n",
    "    for i in range(n-1):\n",
    "        if g(x1[i]) < y2 and g(x1[i+1]) > y2:\n",
    "            x2.append(x1[i])\n",
    "        elif g(x1[i]) > y2 and g(x1[i+1]) < y2:\n",
    "            x2.append(x1[i])\n",
    "        else:\n",
    "            continue\n",
    "    return np.abs(x2[1]-x2[0])\n",
    "print(\"il valore della larghezza a mezza altezza è :\"+ str(larg_mazza_alt()))\n",
    "'''"
   ]
  },
  {
   "cell_type": "code",
   "execution_count": 3,
   "metadata": {},
   "outputs": [],
   "source": [
    "import numpy as np\n",
    "import matplotlib.pyplot as plt\n",
    "N=20000\n",
    "\n",
    "def f(x):\n",
    "    return np.exp(-x**2) - np.exp(-(x-3)**2)\n",
    "\n",
    "def F(x):\n",
    "    A=0\n",
    "    dt=(x+4)/N\n",
    "    for k in range(N):\n",
    "        dA = dt/2 * (f(-4 + k*dt) + f(-4 + (k+1)*dt))\n",
    "        A += dA\n",
    "    return A\n",
    "\n",
    "X=np.linspace(-4,6,N)\n",
    "Y1=f(X)\n",
    "Y2=F(X)\n",
    "\n",
    "xM = X[Y2.argmax()]\n",
    "yM = max(Y2)\n",
    "M = (round(xM,6),round(yM,6))\n",
    "\n",
    "hM=yM/2\n",
    "d=[]\n",
    "for k in range(N-1):\n",
    "    if Y2[k] < hM and Y2[k+1] > hM:\n",
    "        d.append(X[k])\n",
    "    elif Y2[k] > hM and Y2[k+1] < hM:\n",
    "        d.append((X[k]+X[k+1])/2)\n",
    "FWHM = abs(d[1] - d[0])"
   ]
  },
  {
   "cell_type": "code",
   "execution_count": 4,
   "metadata": {
    "scrolled": false
   },
   "outputs": [
    {
     "data": {
      "image/png": "[encoded data removed]",
      "text/plain": [
       "<Figure size 432x288 with 1 Axes>"
      ]
     },
     "metadata": {
      "needs_background": "light"
     },
     "output_type": "display_data"
    },
    {
     "name": "stdout",
     "output_type": "stream",
     "text": [
      "Il punto di massimo assoluto di g(x) in [-4,6] è: M = (1.499775, 1.712377) ;\n",
      "La larghezza a metà altezza di g(x) è: FWHM = 3.060403 .\n",
      "\n",
      "Segue una verifica grafica del risultato trovato:\n"
     ]
    },
    {
     "data": {
      "image/png": "[encoded data removed]",
      "text/plain": [
       "<Figure size 432x288 with 1 Axes>"
      ]
     },
     "metadata": {
      "needs_background": "light"
     },
     "output_type": "display_data"
    }
   ],
   "source": [
    "plt.plot(X,Y1,'red')\n",
    "plt.plot(X,Y2,'blue')\n",
    "plt.title('f(x) in rosso; g(x) in blu',size=16)\n",
    "plt.xlabel('x')\n",
    "plt.ylabel('y=f(x) ; y=g(x)')\n",
    "plt.grid()\n",
    "plt.show()\n",
    "\n",
    "print('Il punto di massimo assoluto di g(x) in [-4,6] è: M =',M,';')\n",
    "print('La larghezza a metà altezza di g(x) è: FWHM =',round(FWHM,6),'.\\n')\n",
    "\n",
    "print('Segue una verifica grafica del risultato trovato:')\n",
    "plt.plot(X,Y2,'blue')\n",
    "plt.plot([xM-FWHM/2,xM+FWHM/2],[F(xM-FWHM/2),F(xM+FWHM/2)],'D:g')\n",
    "plt.title('In verde i punti a metà altezza',color='green',size=16)\n",
    "plt.xlabel('x')\n",
    "plt.ylabel('y = g(x)')\n",
    "plt.grid()\n",
    "plt.show()"
   ]
  }
 ],
 "metadata": {
  "kernelspec": {
   "display_name": "Python 3 (ipykernel)",
   "language": "python",
   "name": "python3"
  },
  "language_info": {
   "codemirror_mode": {
    "name": "ipython",
    "version": 3
   },
   "file_extension": ".py",
   "mimetype": "text/x-python",
   "name": "python",
   "nbconvert_exporter": "python",
   "pygments_lexer": "ipython3",
   "version": "3.9.7"
  }
 },
 "nbformat": 4,
 "nbformat_minor": 4
}
