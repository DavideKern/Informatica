{
 "cells": [
  {
   "cell_type": "code",
   "execution_count": 10,
   "metadata": {},
   "outputs": [
    {
     "name": "stdout",
     "output_type": "stream",
     "text": [
      "Quante righe desideri? 3\n",
      "Quante colonne desideri? 5\n",
      "Inserisci gli elementi della matrice:\n",
      "1\n",
      "2\n",
      "3\n",
      "4\n",
      "5\n",
      "6\n",
      "7\n",
      "8\n",
      "9\n",
      "10\n",
      "11\n",
      "12\n",
      "13\n",
      "14\n",
      "15\n",
      "\n",
      " A = \n",
      " [[ 1.  2.  3.  4.  5.]\n",
      " [ 6.  7.  8.  9. 10.]\n",
      " [11. 12. 13. 14. 15.]] \n",
      "\n",
      "Inserisci gli elementi della colonna da aggiungere:\n",
      "50\n",
      "100\n",
      "150\n",
      "\n",
      " C = \n",
      " [[ 50.]\n",
      " [100.]\n",
      " [150.]]\n",
      "\n",
      " La matrice A con la colonna aggiunta C è: D = \n",
      " [[  1.   2.   3.   4.   5.  50.]\n",
      " [  6.   7.   8.   9.  10. 100.]\n",
      " [ 11.  12.  13.  14.  15. 150.]]\n"
     ]
    }
   ],
   "source": [
    "import numpy as np\n",
    "\n",
    "N=int(input('Quante righe desideri? '))\n",
    "M=int(input('Quante colonne desideri? '))\n",
    "print('Inserisci gli elementi della matrice:')\n",
    "\n",
    "A=np.empty((N,M),float)\n",
    "for i in range(N):\n",
    "    for j in range(M):\n",
    "        A[i,j]=input()\n",
    "print('\\n A = \\n',A,'\\n')\n",
    "\n",
    "print('Inserisci gli elementi della colonna da aggiungere:')\n",
    "C=np.empty((1,N),float)\n",
    "for i in range(N):\n",
    "    C[0,i]=input()\n",
    "print('\\n C = \\n',C.T)\n",
    "\n",
    "A=A.T\n",
    "D=np.vstack((A,C))\n",
    "D=D.T\n",
    "print('\\n La matrice A con la colonna aggiunta C è: D = \\n',D)"
   ]
  },
  {
   "cell_type": "code",
   "execution_count": null,
   "metadata": {},
   "outputs": [],
   "source": []
  }
 ],
 "metadata": {
  "kernelspec": {
   "display_name": "Python 3",
   "language": "python",
   "name": "python3"
  },
  "language_info": {
   "codemirror_mode": {
    "name": "ipython",
    "version": 3
   },
   "file_extension": ".py",
   "mimetype": "text/x-python",
   "name": "python",
   "nbconvert_exporter": "python",
   "pygments_lexer": "ipython3",
   "version": "3.7.6"
  }
 },
 "nbformat": 4,
 "nbformat_minor": 4
}
