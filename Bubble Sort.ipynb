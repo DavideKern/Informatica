{
 "cells": [
  {
   "cell_type": "code",
   "execution_count": 3,
   "metadata": {},
   "outputs": [],
   "source": [
    "def bubble_sort(L):\n",
    "    s = True           #inizializziamo 's' come True;\n",
    "    \n",
    "    while s:           #cioè, fintanto che 's' è True, viene eseguito il body;\n",
    "        s = False      #aggiorniamo 's' a False. Il body del for è realizzato solo se vi è necessità di almeno\n",
    "                       #uno scambio: nel qual caso 's' torna a essere True e il body del while si ripete. In\n",
    "                       #caso contrario, se non vi è il bisogno di alcuno scambio (o si sono esauriti gli scambi\n",
    "                       #utili), 's' resta False e e il ciclo while si interrompe.\n",
    "\n",
    "        for j in range(0,len(L)-1):\n",
    "            if L[j]>L[j+1]:\n",
    "                s = True\n",
    "                L[j],L[j+1] = L[j+1],L[j]\n",
    "    return L"
   ]
  },
  {
   "cell_type": "code",
   "execution_count": 6,
   "metadata": {},
   "outputs": [
    {
     "name": "stdout",
     "output_type": "stream",
     "text": [
      "Inserisci una sequenza di numeri. Invia un blank per fermarti:\n",
      "1\n",
      "6\n",
      "-3\n",
      "-1\n",
      "0\n",
      "12\n",
      "11\n",
      "45\n",
      "42\n",
      "43\n",
      "\n",
      "La sequenza ordinata è: [-3.0, -1.0, 0.0, 1.0, 6.0, 11.0, 12.0, 42.0, 43.0, 45.0]\n"
     ]
    }
   ],
   "source": [
    "L=[]\n",
    "print('Inserisci una sequenza di numeri. Invia un blank per fermarti:')\n",
    "a=input()\n",
    "while a!='':\n",
    "    L+=[float(a)]\n",
    "    a=input()\n",
    "print('La sequenza ordinata è:',bubble_sort(L))"
   ]
  },
  {
   "cell_type": "code",
   "execution_count": null,
   "metadata": {},
   "outputs": [],
   "source": []
  }
 ],
 "metadata": {
  "kernelspec": {
   "display_name": "Python 3",
   "language": "python",
   "name": "python3"
  },
  "language_info": {
   "codemirror_mode": {
    "name": "ipython",
    "version": 3
   },
   "file_extension": ".py",
   "mimetype": "text/x-python",
   "name": "python",
   "nbconvert_exporter": "python",
   "pygments_lexer": "ipython3",
   "version": "3.7.6"
  }
 },
 "nbformat": 4,
 "nbformat_minor": 4
}
