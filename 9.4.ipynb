{
 "cells": [
  {
   "cell_type": "code",
   "execution_count": 2,
   "metadata": {},
   "outputs": [
    {
     "name": "stdout",
     "output_type": "stream",
     "text": [
      "v = [ 4  5  6  7  8  9 10] \n",
      "\n",
      "v' =\n",
      " [[ 4  5  6  7]\n",
      " [ 8  9 10  0]] \n",
      "\n",
      "u = [ 2  3  4  5  6  7  8  9 10] \n",
      "\n",
      "u' = \n",
      " [[ 2  3  4]\n",
      " [ 5  6  7]\n",
      " [ 8  9 10]] \n",
      "\n",
      "Inserisci N: 3\n",
      "Inserisci M: 6\n",
      "\n",
      "I =\n",
      " [[1 1 1 1 1 1]\n",
      " [1 1 1 1 1 1]\n",
      " [1 1 1 1 1 1]] \n",
      "\n",
      "L'ordine di I è:  (3, 6) \n",
      "\n",
      "a = [100 110 120 130 140 150 160 170 180 190 200] \n",
      "\n",
      "a' = \n",
      " [[100 110]\n",
      " [120 130]\n",
      " [140 150]\n",
      " [160 170]\n",
      " [180 190]]\n"
     ]
    }
   ],
   "source": [
    "import numpy as np\n",
    "import random as ran\n",
    "\n",
    "v=np.arange(4,11)              #1\n",
    "print('v =',v,'\\n')\n",
    "v.resize(2,4)\n",
    "print(\"v' =\\n\",v,'\\n')\n",
    "\n",
    "u=np.arange(2,11)              #2\n",
    "print('u =',u,'\\n')\n",
    "u.resize(3,3)\n",
    "print(\"u' = \\n\",u,'\\n')\n",
    "\n",
    "N=int(input('Inserisci N: '))  #3\n",
    "M=int(input('Inserisci M: '))\n",
    "I=np.ones((N,M),int)\n",
    "print('\\nI =\\n',I,'\\n')\n",
    "print(\"L'ordine di I è: \",I.shape,'\\n')\n",
    "\n",
    "a=np.arange(100,201,10)        #4\n",
    "print('a =',a,'\\n')\n",
    "a.resize(5,2)\n",
    "print(\"a' = \\n\",a)"
   ]
  },
  {
   "cell_type": "code",
   "execution_count": null,
   "metadata": {},
   "outputs": [],
   "source": []
  }
 ],
 "metadata": {
  "kernelspec": {
   "display_name": "Python 3",
   "language": "python",
   "name": "python3"
  },
  "language_info": {
   "codemirror_mode": {
    "name": "ipython",
    "version": 3
   },
   "file_extension": ".py",
   "mimetype": "text/x-python",
   "name": "python",
   "nbconvert_exporter": "python",
   "pygments_lexer": "ipython3",
   "version": "3.7.6"
  }
 },
 "nbformat": 4,
 "nbformat_minor": 4
}
