{
 "cells": [
  {
   "cell_type": "code",
   "execution_count": 15,
   "metadata": {},
   "outputs": [],
   "source": [
    "import numpy as np\n",
    "from time import time\n",
    "\n",
    "def f(x):\n",
    "    return np.sin(x)\n",
    "\n",
    "def Z(a,b,N):\n",
    "    k=[]\n",
    "    \n",
    "    if f(a)==0:\n",
    "        k.append(a)\n",
    "        a+=10**(-N)\n",
    "    if f(b)==0:\n",
    "        k.append(b)\n",
    "        b-=10**(-N)\n",
    "\n",
    "    m=b\n",
    "    while abs(b-a)>10**(-N):\n",
    "        \n",
    "        c=(a+b)/2\n",
    "        if f(c)==0:\n",
    "            k.append(c)\n",
    "            return k\n",
    "        elif f(a)*f(c)<0:\n",
    "            b=c\n",
    "        elif f(a)*f(c)>0:\n",
    "            a=c\n",
    "            \n",
    "    if abs(m-c)>10**(-N):\n",
    "        k.append(round(c,N))\n",
    "    \n",
    "    return k"
   ]
  },
  {
   "cell_type": "code",
   "execution_count": 18,
   "metadata": {
    "scrolled": false
   },
   "outputs": [
    {
     "name": "stdout",
     "output_type": "stream",
     "text": [
      "Inserisci a: 3.14\n",
      "Inserisci b: 6.28\n",
      "Con quante cifre decimali desideri conoscere lo zero? 9\n",
      "\n",
      "Segue la sequenza di zeri di f in [a,b]: z = [3.141592653]\n",
      "Tempo di esecuzione: t = 0.0 s.\n"
     ]
    }
   ],
   "source": [
    "a=float(input('Inserisci a: '))\n",
    "b=float(input('Inserisci b: '))\n",
    "N=int(input('Con quante cifre decimali desideri conoscere lo zero? '))\n",
    "if N>12:\n",
    "    N=12\n",
    "    print('Il risultato sarà approssimato fino alla 12° cifra decimale.')\n",
    "\n",
    "t=time()\n",
    "z = Z(a,b,N)\n",
    "t=time()-t\n",
    "\n",
    "print('\\nSegue la sequenza di zeri di f in [a,b]: z =',z)\n",
    "print('Tempo di esecuzione: t =',round(t,8),'s.')"
   ]
  },
  {
   "cell_type": "code",
   "execution_count": 13,
   "metadata": {},
   "outputs": [
    {
     "data": {
      "text/plain": [
       "6.283185307179586"
      ]
     },
     "execution_count": 13,
     "metadata": {},
     "output_type": "execute_result"
    }
   ],
   "source": [
    "2*np.pi"
   ]
  }
 ],
 "metadata": {
  "kernelspec": {
   "display_name": "Python 3",
   "language": "python",
   "name": "python3"
  },
  "language_info": {
   "codemirror_mode": {
    "name": "ipython",
    "version": 3
   },
   "file_extension": ".py",
   "mimetype": "text/x-python",
   "name": "python",
   "nbconvert_exporter": "python",
   "pygments_lexer": "ipython3",
   "version": "3.7.6"
  }
 },
 "nbformat": 4,
 "nbformat_minor": 4
}
