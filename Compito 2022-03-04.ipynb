{
 "cells": [
  {
   "cell_type": "code",
   "execution_count": 1,
   "metadata": {},
   "outputs": [],
   "source": [
    "import numpy as np\n",
    "import matplotlib.pyplot as plt\n",
    "e=np.exp\n",
    "N = 1000\n",
    "\n",
    "K = lambda x: e(-x**2)\n",
    "\n",
    "def f(x):\n",
    "    A=0\n",
    "    dt = 5/N\n",
    "    for k in range(N):\n",
    "        dA = dt/2 * (K(x - k*dt)*e(-k*dt) + K(x - (k+1)*dt)*e(-(k+1)*dt))\n",
    "        A+=dA\n",
    "    return A\n",
    "\n",
    "def I(g):\n",
    "    A=0\n",
    "    dx=5/N\n",
    "    for k in range(N):\n",
    "        dA = dx/2 * (g(k*dx) + g((k+1)*dx))\n",
    "        A+=dA\n",
    "    return A\n",
    "\n",
    "X = np.linspace(0,5,N)\n",
    "Y=f(X)\n",
    "yM = Y.max()\n",
    "xM = X[Y.argmax()]\n",
    "\n",
    "M = (round(xM,6), round(yM,6))\n",
    "\n",
    "norm = 1/I(f)\n",
    "\n",
    "\n",
    "\n",
    "def fm(x):\n",
    "    return norm*x*f(x)\n",
    "mi = round(I(fm),6)\n",
    "\n",
    "def fs(x):\n",
    "    return norm*(x-mi)**2*f(x)\n",
    "s2 = round(I(fs),6)\n",
    "s = round(np.sqrt(s2),6)"
   ]
  },
  {
   "cell_type": "code",
   "execution_count": 4,
   "metadata": {},
   "outputs": [
    {
     "name": "stdout",
     "output_type": "stream",
     "text": [
      "Il punto di massimo di f in [0,5] è:       M = (0.605606, 0.694751)\n",
      "La media della PDF associata a f(x) è:    mi = 1.2936\n",
      "La varianza della PDF associata a x è:    s2 = 0.93719\n",
      "Segue che la deviazione standard è:        s = 0.968086\n"
     ]
    },
    {
     "data": {
      "image/png": "[encoded data removed]",
      "text/plain": [
       "<Figure size 432x288 with 1 Axes>"
      ]
     },
     "metadata": {
      "needs_background": "light"
     },
     "output_type": "display_data"
    }
   ],
   "source": [
    "plt.plot(X,Y,'blue',lw=2.5)\n",
    "plt.plot(X,Y*norm,'green')\n",
    "plt.plot([xM],[yM],'o',color='red')\n",
    "plt.title('y = f(x)',color='blue',size=14)\n",
    "plt.grid()\n",
    "plt.show\n",
    "\n",
    "print(\"Il punto di massimo di f in [0,5] è:       M =\",M)\n",
    "print(\"La media della PDF associata a f(x) è:    mi =\",mi)\n",
    "print(\"La varianza della PDF associata a x è:    s2 =\",s2)\n",
    "print(\"Segue che la deviazione standard è:        s =\",s)"
   ]
  },
  {
   "cell_type": "code",
   "execution_count": null,
   "metadata": {},
   "outputs": [],
   "source": []
  }
 ],
 "metadata": {
  "kernelspec": {
   "display_name": "Python 3 (ipykernel)",
   "language": "python",
   "name": "python3"
  },
  "language_info": {
   "codemirror_mode": {
    "name": "ipython",
    "version": 3
   },
   "file_extension": ".py",
   "mimetype": "text/x-python",
   "name": "python",
   "nbconvert_exporter": "python",
   "pygments_lexer": "ipython3",
   "version": "3.9.7"
  }
 },
 "nbformat": 4,
 "nbformat_minor": 4
}
