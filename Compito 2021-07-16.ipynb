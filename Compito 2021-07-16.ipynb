{
 "cells": [
  {
   "cell_type": "code",
   "execution_count": 1,
   "metadata": {},
   "outputs": [],
   "source": [
    "import numpy as np\n",
    "from matplotlib.pyplot import plot as plt\n",
    "N=10**4\n",
    "\n",
    "def K(t):\n",
    "    return np.exp(-t**2)\n",
    "\n",
    "def f(x):                                    #determinazione della funzione f\n",
    "    A=0\n",
    "    dt=5/N\n",
    "    for k in range(N):\n",
    "        dA = dt/2 * (K(x - k*dt)*np.exp(-k*dt) + K(x - (k+1)*dt)*np.exp(-(k+1)*dt))\n",
    "        A+=dA\n",
    "    return A\n",
    "\n",
    "X=np.linspace(0,5,N)\n",
    "Y=f(X)\n",
    "M=(round(X[Y.argmax()], 5),round(Y.max(),5)) #determinazione del punto di massimo di f\n",
    "\n",
    "def f1(x):\n",
    "    return x*f(x)\n",
    "Y1 = f1(X)\n",
    "\n",
    "m=0                                          #determinazione della media\n",
    "for k in range(len(X)-1):\n",
    "    dm = 1/2 * (X[k+1]-X[k]) * (Y1[k+1]+Y1[k])\n",
    "    m+=dm\n",
    "\n",
    "def f2(x):\n",
    "    return (x - m)**2 *f(x)\n",
    "Y2 = f2(X)\n",
    "\n",
    "s2=0                                         #determinazione della deviazione standard\n",
    "for k in range(len(X)-1):\n",
    "    ds2 = 1/2 * (X[k+1]-X[k]) * (Y2[k+1]+Y2[k])\n",
    "    s2+=ds2"
   ]
  },
  {
   "cell_type": "code",
   "execution_count": 2,
   "metadata": {
    "scrolled": false
   },
   "outputs": [
    {
     "name": "stdout",
     "output_type": "stream",
     "text": [
      "Il punto di massimo di f è:\n",
      "(x_max, y_max) = (0.60356, 0.69475) \n",
      "\n",
      "La media m e la deviazione standard s della distribuzione f sono:\n",
      "m = 1.82946 \n",
      "s = 1.31586 \n",
      "\n",
      "Segue il grafico di f in [0,5]:\n"
     ]
    },
    {
     "data": {
      "image/png": "[encoded data removed]",
      "text/plain": [
       "<Figure size 432x288 with 1 Axes>"
      ]
     },
     "metadata": {
      "needs_background": "light"
     },
     "output_type": "display_data"
    }
   ],
   "source": [
    "print('Il punto di massimo di f è:\\n(x_max, y_max) =',M,'\\n')\n",
    "\n",
    "print('La media m e la deviazione standard s della distribuzione f sono:')\n",
    "print('m =', round(m,5), '\\ns =', round(np.sqrt(s2),5), '\\n')\n",
    "\n",
    "print('Segue il grafico di f in [0,5]:')\n",
    "z=plt(X,f(X),'blue')"
   ]
  },
  {
   "cell_type": "code",
   "execution_count": null,
   "metadata": {},
   "outputs": [],
   "source": []
  }
 ],
 "metadata": {
  "kernelspec": {
   "display_name": "Python 3",
   "language": "python",
   "name": "python3"
  },
  "language_info": {
   "codemirror_mode": {
    "name": "ipython",
    "version": 3
   },
   "file_extension": ".py",
   "mimetype": "text/x-python",
   "name": "python",
   "nbconvert_exporter": "python",
   "pygments_lexer": "ipython3",
   "version": "3.7.6"
  }
 },
 "nbformat": 4,
 "nbformat_minor": 4
}
