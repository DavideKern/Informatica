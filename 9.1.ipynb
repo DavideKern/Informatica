{
 "cells": [
  {
   "cell_type": "code",
   "execution_count": 26,
   "metadata": {
    "scrolled": true
   },
   "outputs": [
    {
     "name": "stdout",
     "output_type": "stream",
     "text": [
      "[0 1 2 3 4 5 6 7 8 9]\n",
      "(array([0, 1, 2, 3, 4, 5, 6, 7, 8, 9]), 1.0) \n",
      "\n",
      "[ 1  3  5  7  9 11]\n",
      "(array([ 1,  3,  5,  7,  9, 11, 13]), 2.0) \n",
      "\n",
      "[[ 0  0  0  0  0 11  0  0  0  0]] \n",
      "\n",
      "[[1 1 1 1 1]\n",
      " [1 0 0 0 1]\n",
      " [1 0 0 0 1]\n",
      " [1 0 0 0 1]\n",
      " [1 1 1 1 1]]\n"
     ]
    }
   ],
   "source": [
    "import numpy as np\n",
    "\n",
    "print(np.arange(0,10,1))                  #1\n",
    "print(np.linspace(0,9,10,True,True,int), '\\n')\n",
    "\n",
    "print(np.arange(1,13,2))                  #2\n",
    "print(np.linspace(1,13,7,True,True,int), '\\n')\n",
    "\n",
    "a=np.zeros((1,10),dtype=int)              #3\n",
    "a[0,5]=11\n",
    "print(a, '\\n')\n",
    "\n",
    "b=np.zeros((5,5),dtype=int)               #4\n",
    "for i in range(5):\n",
    "    b[0,i]=1\n",
    "    b[i,0]=1\n",
    "    b[4,i]=1\n",
    "    b[i,4]=1\n",
    "    \n",
    "print(b)"
   ]
  },
  {
   "cell_type": "code",
   "execution_count": null,
   "metadata": {},
   "outputs": [],
   "source": [
    "\n",
    "\n",
    "\n"
   ]
  }
 ],
 "metadata": {
  "kernelspec": {
   "display_name": "Python 3",
   "language": "python",
   "name": "python3"
  },
  "language_info": {
   "codemirror_mode": {
    "name": "ipython",
    "version": 3
   },
   "file_extension": ".py",
   "mimetype": "text/x-python",
   "name": "python",
   "nbconvert_exporter": "python",
   "pygments_lexer": "ipython3",
   "version": "3.7.6"
  }
 },
 "nbformat": 4,
 "nbformat_minor": 4
}
