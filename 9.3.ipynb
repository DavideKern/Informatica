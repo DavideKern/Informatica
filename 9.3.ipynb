{
 "cells": [
  {
   "cell_type": "code",
   "execution_count": 18,
   "metadata": {
    "scrolled": false
   },
   "outputs": [
    {
     "name": "stdout",
     "output_type": "stream",
     "text": [
      "u= [ 2.  7. 12. 17. 22. 27. 32. 37. 42. 47. 52. 57. 62. 67. 72. 77. 82. 87.\n",
      " 92. 97.] \n",
      "\n",
      "u'= [inf  7. inf 17. inf 27. inf 37. inf 47. inf 57. inf 67. inf 77. inf 87.\n",
      " inf 97.] \n",
      "\n",
      "[False  True False  True False  True False  True False  True False  True\n",
      " False  True False  True False  True False  True] \n",
      "\n",
      "Quanti \"5\" desideri nel tuo array? 3\n",
      "[5 5 5] \n",
      "\n",
      "Quale ordine desideri per la tua matrice identica? 9\n",
      "[[1 0 0 0 0 0 0 0 0]\n",
      " [0 1 0 0 0 0 0 0 0]\n",
      " [0 0 1 0 0 0 0 0 0]\n",
      " [0 0 0 1 0 0 0 0 0]\n",
      " [0 0 0 0 1 0 0 0 0]\n",
      " [0 0 0 0 0 1 0 0 0]\n",
      " [0 0 0 0 0 0 1 0 0]\n",
      " [0 0 0 0 0 0 0 1 0]\n",
      " [0 0 0 0 0 0 0 0 1]] \n",
      "\n",
      "Quale ordine desideri per il tuo array? 20\n",
      "[5 5 5 5 5 5 5 5 5 5 5 5 5 5 5 5 5 5 5 5]\n"
     ]
    }
   ],
   "source": [
    "import numpy as np\n",
    "import random as ran\n",
    "\n",
    "u=np.arange(2.,100.,5)\n",
    "print('u=',u, '\\n')\n",
    "\n",
    "for i in range(len(u)):\n",
    "    if i%2==0:\n",
    "        u[i]=np.inf\n",
    "\n",
    "print(\"u'=\",u, '\\n')\n",
    "\n",
    "print(np.isfinite(u), '\\n')\n",
    "\n",
    "N=int(input('Quanti \"5\" desideri nel tuo array? '))\n",
    "print(np.dot(np.ones(N,dtype=int),5),'\\n')\n",
    "\n",
    "M=int(input(\"Quale ordine desideri per la tua matrice identica? \"))\n",
    "print(np.identity(M,dtype=int),'\\n')\n",
    "\n",
    "N=int(input('Quale ordine desideri per il tuo array? '))\n",
    "n=int(11*ran.random())\n",
    "print(np.dot(np.ones(N,dtype=int),n))"
   ]
  },
  {
   "cell_type": "code",
   "execution_count": null,
   "metadata": {},
   "outputs": [],
   "source": []
  }
 ],
 "metadata": {
  "kernelspec": {
   "display_name": "Python 3",
   "language": "python",
   "name": "python3"
  },
  "language_info": {
   "codemirror_mode": {
    "name": "ipython",
    "version": 3
   },
   "file_extension": ".py",
   "mimetype": "text/x-python",
   "name": "python",
   "nbconvert_exporter": "python",
   "pygments_lexer": "ipython3",
   "version": "3.7.6"
  }
 },
 "nbformat": 4,
 "nbformat_minor": 4
}
