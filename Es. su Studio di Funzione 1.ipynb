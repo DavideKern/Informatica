{
 "cells": [
  {
   "cell_type": "code",
   "execution_count": null,
   "metadata": {},
   "outputs": [],
   "source": [
    "'''\n",
    "Sia f(x) = 4e^-(x+3)^2 + 2e^-x^2 + 3e^-(x-2)^2 + 2.5e^-(x-5)^2 definita in [-8,9],\n",
    "\n",
    "-si rappresenti il grafico di f;\n",
    "-si definisca la derivata f' e se ne rappresenti il grafico;\n",
    "-si determinino le coordinate del punto di massimo assoluto di f;\n",
    "-si determinino gli zeri di f' in [-4,6];\n",
    "-si determini l'integrale di f definito in [-8,9];\n",
    "-si definisca la primitiva di f, F(x) rispetto a=0, e se ne rappresenti il grafico;\n",
    "\n",
    "Sia data la distribuzione di probabilità la cui PDF è f(x):\n",
    "\n",
    "-si trovi la sua costante di normalizzazione;\n",
    "-si trovi la sua media;\n",
    "-si trovino la varianza e la deviazione standard.\n",
    "'''"
   ]
  },
  {
   "cell_type": "code",
   "execution_count": 2,
   "metadata": {},
   "outputs": [],
   "source": [
    "import numpy as np\n",
    "from matplotlib.pyplot import plot as plt\n",
    "N=10**4\n",
    "eps=10**(-5)\n",
    "\n",
    "def f(x: float):\n",
    "    return 4*np.exp(-(x+3)**2) + 2*np.exp(-(x**2)) + 3*np.exp(-(x-2)**2) + 2.5*np.exp(-(x-5)**2)\n",
    "\n",
    "def f1(x: float):\n",
    "    return (f(x+eps) - f(x)) / eps\n",
    "\n",
    "def I(f):\n",
    "    A=0\n",
    "    dx=(9+8)/N\n",
    "    for k in range(N):\n",
    "        dA = dx/2 * (f(-8 + k*dx) + f(-8 + (k+1)*dx))\n",
    "        A+=dA\n",
    "    return A\n",
    "\n",
    "def Z(x1: float, x2: float):\n",
    "    K=[]\n",
    "    \n",
    "    if f1(x1)==0:\n",
    "        K.append(x1)\n",
    "        x1+=eps\n",
    "    b0=x2\n",
    "    \n",
    "    while abs(x2-x1)>eps:\n",
    "        c = (x1+x2)/2\n",
    "        if f1(c)==0:\n",
    "            K.append(c)\n",
    "            break\n",
    "        elif f1(x1)*f1(c)<0: \n",
    "            x2=c\n",
    "        elif f1(x1)*f1(c)>0:\n",
    "            x1=c\n",
    "        \n",
    "    if abs(b0-c)>eps:\n",
    "        K.append(round(c,5))\n",
    "            \n",
    "    return K\n",
    "        \n",
    "def F(x):\n",
    "    A=0\n",
    "    dx=x/N\n",
    "    for k in range(N):\n",
    "        dA = dx/2 * (f(k*dx) + f((k+1)*dx))\n",
    "        A+=dA\n",
    "    return A\n",
    "\n",
    "\n",
    "X=np.linspace(-8,9,N)\n",
    "Y=f(X)\n",
    "Y1=f1(X)\n",
    "Y2=F(X)"
   ]
  },
  {
   "cell_type": "code",
   "execution_count": 3,
   "metadata": {
    "scrolled": false
   },
   "outputs": [
    {
     "name": "stdout",
     "output_type": "stream",
     "text": [
      "Seguono i grafici di f (in rosso) e della sua derivata (in blu):\n"
     ]
    },
    {
     "data": {
      "image/png": "[encoded data removed]",
      "text/plain": [
       "<Figure size 432x288 with 1 Axes>"
      ]
     },
     "metadata": {
      "needs_background": "light"
     },
     "output_type": "display_data"
    }
   ],
   "source": [
    "print('Seguono i grafici di f (in rosso) e della sua derivata (in blu):')\n",
    "z=plt(X,Y,'red')\n",
    "z=plt(X,Y1,'blue')"
   ]
  },
  {
   "cell_type": "code",
   "execution_count": 4,
   "metadata": {
    "scrolled": false
   },
   "outputs": [
    {
     "name": "stdout",
     "output_type": "stream",
     "text": [
      "Il punto di massimo assoluto di f è: (-2.9998, 4.00025)\n"
     ]
    }
   ],
   "source": [
    "M = (round(X[Y.argmax()],5) , round(max(Y),5))\n",
    "print('Il punto di massimo assoluto di f è:',M)"
   ]
  },
  {
   "cell_type": "code",
   "execution_count": 5,
   "metadata": {
    "scrolled": false
   },
   "outputs": [
    {
     "name": "stdout",
     "output_type": "stream",
     "text": [
      "Gli zeri di f' in [-4,6] sono: [-2.99982, -1.3514, 0.06954, 0.79429, 1.97347, 3.53908, 4.99955]\n"
     ]
    }
   ],
   "source": [
    "T=[]\n",
    "k=-4\n",
    "\n",
    "while k<6:\n",
    "    T += Z(k,k+0.2)\n",
    "    k+=0.2\n",
    "\n",
    "print(\"Gli zeri di f' in [-4,6] sono:\",T)"
   ]
  },
  {
   "cell_type": "code",
   "execution_count": 6,
   "metadata": {
    "scrolled": false
   },
   "outputs": [
    {
     "name": "stdout",
     "output_type": "stream",
     "text": [
      "L'integrale di f esteso a [-8,9] è: 20.38321925\n"
     ]
    }
   ],
   "source": [
    "print(\"L'integrale di f esteso a [-8,9] è:\",round(I(f),8))"
   ]
  },
  {
   "cell_type": "code",
   "execution_count": 7,
   "metadata": {},
   "outputs": [
    {
     "name": "stdout",
     "output_type": "stream",
     "text": [
      "La primitiva F(x) rispetto a=0 in [-8,9] è:\n"
     ]
    },
    {
     "data": {
      "image/png": "[encoded data removed]",
      "text/plain": [
       "<Figure size 432x288 with 1 Axes>"
      ]
     },
     "metadata": {
      "needs_background": "light"
     },
     "output_type": "display_data"
    }
   ],
   "source": [
    "print(\"La primitiva F(x) rispetto a=0 in [-8,9] è:\")\n",
    "z=plt(X,Y2,'green')"
   ]
  },
  {
   "cell_type": "code",
   "execution_count": 8,
   "metadata": {},
   "outputs": [
    {
     "name": "stdout",
     "output_type": "stream",
     "text": [
      "La costante di normalizzazione N della distribuzione associata a f è: N = 0.04905996\n"
     ]
    }
   ],
   "source": [
    "print('La costante di normalizzazione N della distribuzione associata a f è: N =',round(1/I(f),8))"
   ]
  },
  {
   "cell_type": "code",
   "execution_count": 9,
   "metadata": {},
   "outputs": [
    {
     "name": "stdout",
     "output_type": "stream",
     "text": [
      "La media della distribuzione è: mi = 11.52094972\n"
     ]
    }
   ],
   "source": [
    "def g(x):\n",
    "    return x*f(x)\n",
    "\n",
    "mi=I(g)\n",
    "print('La media della distribuzione è: mi =',round(mi,8))"
   ]
  },
  {
   "cell_type": "code",
   "execution_count": 10,
   "metadata": {},
   "outputs": [
    {
     "name": "stdout",
     "output_type": "stream",
     "text": [
      "La varianza della distribuzione è: s^2 = 2646.09440711\n",
      "...cui corrisponde una deviazione standard pari a: s = 51.44020225\n"
     ]
    }
   ],
   "source": [
    "def h(x):\n",
    "    return (x-mi)**2 * f(x)\n",
    "\n",
    "s2=I(h)\n",
    "print('La varianza della distribuzione è: s^2 =',round(s2,8))\n",
    "print('...cui corrisponde una deviazione standard pari a: s =',round(s2**(1/2),8))"
   ]
  },
  {
   "cell_type": "code",
   "execution_count": null,
   "metadata": {},
   "outputs": [],
   "source": []
  }
 ],
 "metadata": {
  "kernelspec": {
   "display_name": "Python 3",
   "language": "python",
   "name": "python3"
  },
  "language_info": {
   "codemirror_mode": {
    "name": "ipython",
    "version": 3
   },
   "file_extension": ".py",
   "mimetype": "text/x-python",
   "name": "python",
   "nbconvert_exporter": "python",
   "pygments_lexer": "ipython3",
   "version": "3.7.6"
  }
 },
 "nbformat": 4,
 "nbformat_minor": 4
}
