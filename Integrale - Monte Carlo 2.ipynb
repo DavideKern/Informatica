{
 "cells": [
  {
   "cell_type": "code",
   "execution_count": null,
   "metadata": {},
   "outputs": [],
   "source": [
    "from random import uniform\n",
    "import numpy as np\n",
    "from time import time\n",
    "import matplotlib.pyplot as plt\n",
    "\n",
    "def f(x):\n",
    "    #return x**4/10 - x**2 + 5*np.sin(x) - 3*np.cos(2*x)\n",
    "    return np.cos(x)\n",
    "\n",
    "N=int(input(\"Inserire l'ordine N: \"))\n",
    "N=10**N\n",
    "a=float(input('Inserire a: '))\n",
    "b=float(input('Inserire b: '))\n",
    "\n",
    "t=time()\n",
    "if a==b:\n",
    "    A=0\n",
    "else:\n",
    "    X=np.linspace(min(a,b),max(a,b),1000)\n",
    "    Y=f(X)\n",
    "    c=0\n",
    "    for i in range(N):\n",
    "        x=uniform(a,b)\n",
    "        y=uniform(min(Y),max(Y))\n",
    "        if f(x)>=0 and y>=0 and y<=f(x):\n",
    "            c+=1\n",
    "        elif f(x)<=0 and y>=f(x) and y<=0:\n",
    "            c-=1\n",
    "    A = c/N * (b-a) * (max(Y)-min(Y))\n",
    "t=time()-t\n",
    "\n",
    "print('\\nI(stimato) =',round(A,5))\n",
    "\n",
    "def F(x):               #usare questa parte solo se la primitiva è nota\n",
    "    #return x**5/50 - x**3/3 - 5*np.cos(x) -3/2*np.sin(2*x)\n",
    "    return np.sin(x)\n",
    "I=F(b)-F(a)\n",
    "if I!=0:\n",
    "    E=round(100*(A-I)/abs(I) , 5)\n",
    "    if abs(E)>10**9:\n",
    "        E=np.NaN\n",
    "else: E=np.NaN\n",
    "print('I(esatto) =',round(I,5))\n",
    "if a!=b:\n",
    "    print('Errore =',E,'%')\n",
    "\n",
    "print('Tempo di esecuzione:',round(t,5),'s\\n')\n",
    "if a!=b:\n",
    "    print(\"Segue il grafico della funzione nell'intervallo scelto:\")\n",
    "    g=plt.plot(X,Y)"
   ]
  },
  {
   "cell_type": "code",
   "execution_count": null,
   "metadata": {},
   "outputs": [],
   "source": []
  }
 ],
 "metadata": {
  "kernelspec": {
   "display_name": "Python 3",
   "language": "python",
   "name": "python3"
  },
  "language_info": {
   "codemirror_mode": {
    "name": "ipython",
    "version": 3
   },
   "file_extension": ".py",
   "mimetype": "text/x-python",
   "name": "python",
   "nbconvert_exporter": "python",
   "pygments_lexer": "ipython3",
   "version": "3.7.6"
  }
 },
 "nbformat": 4,
 "nbformat_minor": 4
}
