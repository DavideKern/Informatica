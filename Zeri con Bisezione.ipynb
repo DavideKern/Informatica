{
 "cells": [
  {
   "cell_type": "code",
   "execution_count": 14,
   "metadata": {},
   "outputs": [],
   "source": [
    "import numpy as np\n",
    "from time import time\n",
    "\n",
    "def f(x):\n",
    "    return x**2\n",
    "\n",
    "def Z(a,b,N):\n",
    "    \n",
    "    while abs(b-a)>10**(-N):\n",
    "        c=(a+b)/2\n",
    "        \n",
    "        if f(c)==0:\n",
    "            return c\n",
    "        elif f(a)*f(c)<0:\n",
    "            b=c\n",
    "        else:\n",
    "            a=c\n",
    "            \n",
    "    return c"
   ]
  },
  {
   "cell_type": "code",
   "execution_count": 15,
   "metadata": {},
   "outputs": [
    {
     "name": "stdout",
     "output_type": "stream",
     "text": [
      "Inserisci a: 1\n",
      "Inserisci b: 7\n",
      "Con quante cifre decimali desideri conoscere lo zero? 10\n",
      "\n",
      "Lo zero di f in [a,b] è: x = 6.9999999999\n",
      "Tempo di esecuzione: t = 0.0 s.\n"
     ]
    }
   ],
   "source": [
    "a=float(input('Inserisci a: '))\n",
    "b=float(input('Inserisci b: '))\n",
    "N=int(input('Con quante cifre decimali desideri conoscere lo zero? '))\n",
    "if N>15:\n",
    "    N=15\n",
    "    print('Il risultato sarà approssimato fino alla 15° cifra decimale.')\n",
    "\n",
    "t=time()\n",
    "z = Z(a,b,N)\n",
    "t=time()-t\n",
    "\n",
    "print('\\nLo zero di f in [a,b] è: x =',round(z,N))\n",
    "print('Tempo di esecuzione: t =',round(t,8),'s.')"
   ]
  },
  {
   "cell_type": "code",
   "execution_count": null,
   "metadata": {},
   "outputs": [],
   "source": []
  }
 ],
 "metadata": {
  "kernelspec": {
   "display_name": "Python 3",
   "language": "python",
   "name": "python3"
  },
  "language_info": {
   "codemirror_mode": {
    "name": "ipython",
    "version": 3
   },
   "file_extension": ".py",
   "mimetype": "text/x-python",
   "name": "python",
   "nbconvert_exporter": "python",
   "pygments_lexer": "ipython3",
   "version": "3.7.6"
  }
 },
 "nbformat": 4,
 "nbformat_minor": 4
}
