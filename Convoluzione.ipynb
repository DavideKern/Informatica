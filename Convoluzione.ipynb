{
 "cells": [
  {
   "cell_type": "code",
   "execution_count": null,
   "id": "afdf05cd",
   "metadata": {},
   "outputs": [],
   "source": [
    "import numpy as np\n",
    "import matplotlib.pyplot as plt\n",
    "e=np.exp\n",
    "pi=np.pi\n",
    "N = 2*10**3\n",
    "a,b = -10000,10000\n",
    "R=2\n",
    "#m1,m2 = 0,4\n",
    "#s1,s2 = 1,2\n",
    "\n",
    "def f1(x):\n",
    "    if x<0:\n",
    "        return 0\n",
    "    else:\n",
    "        return e(-x)\n",
    "\n",
    "def f2(x):\n",
    "    if abs(x)<=0.5:\n",
    "        return 1\n",
    "    else:\n",
    "        return 0\n",
    "\n",
    "def conv(f1, f2, a: float, b: float, x: float):\n",
    "    A=0\n",
    "    dt = (b-a)/N\n",
    "    for k in range(N):\n",
    "        dA = dt/2 * (f1(a+k*dt)*f2(x - a+k*dt) + f1(a+(k+1)*dt)*f2(x - a+(k+1)*dt))\n",
    "        A+=dA\n",
    "    return A\n",
    "\n",
    "X=np.linspace(-R,R,N)\n",
    "Y1,Y2,Y = np.zeros(N), np.zeros(N), np.zeros(N)\n",
    "for k in range(N):\n",
    "    Y1[k] = f1(X[k])\n",
    "    Y2[k] = f2(X[k])\n",
    "    Y[k]  = conv(f1,f2,a,b,X[k])"
   ]
  },
  {
   "cell_type": "code",
   "execution_count": null,
   "id": "998655cf",
   "metadata": {},
   "outputs": [],
   "source": [
    "plt.plot(X,Y1,'red')\n",
    "plt.plot(X,Y2,'blue')\n",
    "plt.show()\n",
    "\n",
    "plt.plot(X,Y,'purple')\n",
    "plt.show()"
   ]
  },
  {
   "cell_type": "code",
   "execution_count": null,
   "id": "67026d52",
   "metadata": {},
   "outputs": [],
   "source": []
  }
 ],
 "metadata": {
  "kernelspec": {
   "display_name": "Python 3 (ipykernel)",
   "language": "python",
   "name": "python3"
  },
  "language_info": {
   "codemirror_mode": {
    "name": "ipython",
    "version": 3
   },
   "file_extension": ".py",
   "mimetype": "text/x-python",
   "name": "python",
   "nbconvert_exporter": "python",
   "pygments_lexer": "ipython3",
   "version": "3.9.7"
  }
 },
 "nbformat": 4,
 "nbformat_minor": 5
}
