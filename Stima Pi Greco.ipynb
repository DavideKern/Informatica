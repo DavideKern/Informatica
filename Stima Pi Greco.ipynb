{
 "cells": [
  {
   "cell_type": "code",
   "execution_count": null,
   "metadata": {
    "scrolled": false
   },
   "outputs": [
    {
     "name": "stdout",
     "output_type": "stream",
     "text": [
      "Inserire il numero N di punti con cui stimare π (non superare 10^7): 10000000\n",
      "π ≈ 3.1418164\n",
      "Errore della stima: 0.00712 %\n",
      "Tempo di esecuzione: 10.96485 s\n"
     ]
    }
   ],
   "source": [
    "import random as ran\n",
    "import time\n",
    "import numpy as np\n",
    "import matplotlib.pyplot as plt\n",
    "\n",
    "N=int(input(\"Inserire il numero N di punti con cui stimare π (non superare 10^7): \"))\n",
    "d=300*N**(-0.75)\n",
    "X,Y=[],[]\n",
    "X0,Y0=[],[]\n",
    "\n",
    "c=0\n",
    "t=time.time()\n",
    "for i in range(N):\n",
    "    x=ran.random()\n",
    "    y=ran.random()\n",
    "    if x**2 + y**2 <= 1:\n",
    "        c+=1\n",
    "        X0.append(x)\n",
    "        Y0.append(y)\n",
    "    else:\n",
    "        X.append(x)\n",
    "        Y.append(y)\n",
    "        \n",
    "t=time.time()-t\n",
    "π=4*c/N\n",
    "\n",
    "print('π ≈',π)\n",
    "print('Errore della stima:', round(100*(π-np.pi)/np.pi,5),'%' )\n",
    "print('Tempo di esecuzione:',round(t,5),'s')\n",
    "\n",
    "plt.figure(figsize=(10,10),dpi=80)\n",
    "ax = plt.axes()\n",
    "ax.set_facecolor('silver')\n",
    "plt.scatter(X0,Y0,c='r',s=d)\n",
    "plt.scatter(X,Y,c='darkblue',s=d)\n",
    "plt.show()"
   ]
  },
  {
   "cell_type": "code",
   "execution_count": null,
   "metadata": {},
   "outputs": [],
   "source": []
  }
 ],
 "metadata": {
  "kernelspec": {
   "display_name": "Python 3 (ipykernel)",
   "language": "python",
   "name": "python3"
  },
  "language_info": {
   "codemirror_mode": {
    "name": "ipython",
    "version": 3
   },
   "file_extension": ".py",
   "mimetype": "text/x-python",
   "name": "python",
   "nbconvert_exporter": "python",
   "pygments_lexer": "ipython3",
   "version": "3.9.7"
  }
 },
 "nbformat": 4,
 "nbformat_minor": 4
}
