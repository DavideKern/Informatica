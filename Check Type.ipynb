{
 "cells": [
  {
   "cell_type": "code",
   "execution_count": 3,
   "metadata": {
    "scrolled": true
   },
   "outputs": [],
   "source": [
    "def check(a):\n",
    "    c=0\n",
    "    if a=='':\n",
    "        return False\n",
    "    else:\n",
    "        for i in range(len(a)):\n",
    "            if a[i]==\"0\" or a[i]==\"1\" or a[i]==\"2\" or a[i]==\"3\" or a[i]==\"4\" or a[i]==\"5\" or a[i]==\"6\"  \\\n",
    "                or a[i]==\"7\" or a[i]==\"8\" or a[i]==\"9\" or a[i]==\".\" or (a[i]==\"-\" or a[i]==\"+\" and i==0):\n",
    "                    if a[i]==\".\":\n",
    "                        c+=1\n",
    "                    if c>1:\n",
    "                        return False\n",
    "            else: return False\n",
    "        return True\n",
    "\n",
    "def check_fractional(a):\n",
    "    if check(a)==True:\n",
    "        if float(a)%1==0:\n",
    "            return False\n",
    "        else: return True\n",
    "    else: return False\n",
    "\n",
    "def check_integer(a):\n",
    "    if check(a)==True:\n",
    "        if float(a)%1==0:\n",
    "            return True\n",
    "        else: return False\n",
    "    else: return False\n",
    "\n",
    "def check_natural(a):\n",
    "    if check_integer(a)==True:\n",
    "        if float(a)>0:\n",
    "            return True\n",
    "        else: return False\n",
    "    else: return False"
   ]
  },
  {
   "cell_type": "code",
   "execution_count": 17,
   "metadata": {},
   "outputs": [
    {
     "name": "stdout",
     "output_type": "stream",
     "text": [
      "Inserisci una stringa o un numero reale: -451.\n",
      "Hai inserito un numero intero: -451\n"
     ]
    }
   ],
   "source": [
    "a=input('Inserisci una stringa o un numero reale: ')\n",
    "\n",
    "if check(a)==True:\n",
    "    if check_natural(a)==True:\n",
    "        print('Hai inserito un numero naturale:',int(float(a)))\n",
    "    elif check_integer(a)==True:\n",
    "        print('Hai inserito un numero intero:',int(float(a)))\n",
    "    elif check_fractional(a)==True:\n",
    "        print('Hai inserito un numero frazionario:',float(a))\n",
    "\n",
    "else: print('Non hai inserito un numero reale.')"
   ]
  },
  {
   "cell_type": "code",
   "execution_count": null,
   "metadata": {},
   "outputs": [],
   "source": []
  }
 ],
 "metadata": {
  "kernelspec": {
   "display_name": "Python 3",
   "language": "python",
   "name": "python3"
  },
  "language_info": {
   "codemirror_mode": {
    "name": "ipython",
    "version": 3
   },
   "file_extension": ".py",
   "mimetype": "text/x-python",
   "name": "python",
   "nbconvert_exporter": "python",
   "pygments_lexer": "ipython3",
   "version": "3.7.6"
  }
 },
 "nbformat": 4,
 "nbformat_minor": 4
}
