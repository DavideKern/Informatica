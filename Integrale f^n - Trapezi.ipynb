{
 "cells": [
  {
   "cell_type": "code",
   "execution_count": null,
   "metadata": {
    "scrolled": true
   },
   "outputs": [],
   "source": [
    "import numpy as np\n",
    "import matplotlib.pyplot as plt\n",
    "from time import time\n",
    "\n",
    "def f(x):\n",
    "    return x**4/10 - x**2 + 5*np.sin(x) - 3*np.cos(2*x)\n",
    "def fn(x,n):\n",
    "    return f(x)**n\n",
    "\n",
    "def A(a,b,n,N):\n",
    "    A=0\n",
    "    dx = (b-a)/N\n",
    "    for k in range(N):\n",
    "        dA = dx/2 * ( fn(a + k*dx, n) + fn(a + (k+1)*dx, n) )\n",
    "        A+=dA\n",
    "    return A\n",
    "\n",
    "a=float(input('Inserisci a: '))\n",
    "b=float(input('Inserisci b: '))\n",
    "n=int(input(\"Inserisci l'esponente n: \"))\n",
    "N=int(input('In quanti intervalli vuoi dividere [a,b]? '))\n",
    "\n",
    "t=time()\n",
    "print('\\nI(stimato) =', round(A(a,b,n,N),5))\n",
    "t=time()-t\n",
    "print('Tempo di esecuzione: ',round(t,8),'s')\n",
    "if a!=b:\n",
    "    X=np.linspace(min(a,b),max(a,b),N)\n",
    "    print(\"Segue il grafico della funzione nell'intervallo e col campionamento scelti:\")\n",
    "    g=plt.plot(X,fn(X,n))"
   ]
  },
  {
   "cell_type": "code",
   "execution_count": null,
   "metadata": {},
   "outputs": [],
   "source": []
  }
 ],
 "metadata": {
  "kernelspec": {
   "display_name": "Python 3",
   "language": "python",
   "name": "python3"
  },
  "language_info": {
   "codemirror_mode": {
    "name": "ipython",
    "version": 3
   },
   "file_extension": ".py",
   "mimetype": "text/x-python",
   "name": "python",
   "nbconvert_exporter": "python",
   "pygments_lexer": "ipython3",
   "version": "3.7.6"
  }
 },
 "nbformat": 4,
 "nbformat_minor": 4
}
