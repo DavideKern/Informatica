{
 "cells": [
  {
   "cell_type": "code",
   "execution_count": null,
   "metadata": {
    "scrolled": false
   },
   "outputs": [],
   "source": [
    "import numpy as np\n",
    "import matplotlib.pyplot as plt\n",
    "from time import time\n",
    "\n",
    "def f(x):\n",
    "    return x**4/10 - x**2 + 5*np.sin(x) - 3*np.cos(2*x)\n",
    "\n",
    "N=int(input('In quanti intervalli vuoi dividere [a,b]? '))\n",
    "a=float(input('Inserisci a: '))\n",
    "b=float(input('Inserisci b: '))\n",
    "\n",
    "A=0\n",
    "dx=(b-a)/N\n",
    "t=time()\n",
    "for k in range(N):\n",
    "    dA = dx * ( f(a+k*dx) + f(a+(k+1)*dx) ) /2\n",
    "    A += dA\n",
    "t=time()-t\n",
    "\n",
    "print('I(stimato) =',round(A,5))\n",
    "\n",
    "def F(x):               #usare questa parte solo se la primitiva è nota\n",
    "    return x**5/50 - x**3/3 - 5*np.cos(x) -3/2*np.sin(2*x)\n",
    "I=F(b)-F(a)\n",
    "if I!=0:\n",
    "    E=round(100*(A-I)/abs(I) , 8)\n",
    "else: E=np.NaN\n",
    "print('I(esatto) =',round(I,5))\n",
    "if a!=b:\n",
    "    print('Errore =',E,'%')\n",
    "\n",
    "print('Tempo di esecuzione:',round(t,8),'s')\n",
    "if a!=b:\n",
    "    X=np.linspace(min(a,b),max(a,b),N)\n",
    "    Y=f(X)\n",
    "    print(\"Segue il grafico della funzione nell'intervallo e col campionamento scelti:\")\n",
    "    g=plt.plot(X,Y)"
   ]
  },
  {
   "cell_type": "code",
   "execution_count": null,
   "metadata": {},
   "outputs": [],
   "source": []
  },
  {
   "cell_type": "code",
   "execution_count": null,
   "metadata": {},
   "outputs": [],
   "source": []
  }
 ],
 "metadata": {
  "kernelspec": {
   "display_name": "Python 3",
   "language": "python",
   "name": "python3"
  },
  "language_info": {
   "codemirror_mode": {
    "name": "ipython",
    "version": 3
   },
   "file_extension": ".py",
   "mimetype": "text/x-python",
   "name": "python",
   "nbconvert_exporter": "python",
   "pygments_lexer": "ipython3",
   "version": "3.7.6"
  }
 },
 "nbformat": 4,
 "nbformat_minor": 4
}
