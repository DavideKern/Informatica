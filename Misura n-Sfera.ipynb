{
 "cells": [
  {
   "cell_type": "code",
   "execution_count": 29,
   "metadata": {},
   "outputs": [
    {
     "name": "stdout",
     "output_type": "stream",
     "text": [
      "Inserisci la dimensione n della sfera: 8\n",
      "Inserisci il raggio R della sfera: 55\n",
      "Inserisci la grandezza N del campione: 10000000\n",
      "\n",
      "Misura stimata:      M = 340564815777560.0\n",
      "Misura esatta:       μ = 339851949109308.1\n",
      "Errore percentuale:  E = 0.20976 %\n",
      "Tempo di esecuzione: T= 131.67598 s\n"
     ]
    }
   ],
   "source": [
    "import numpy as np\n",
    "from math import gamma\n",
    "from time import time\n",
    "\n",
    "def norm(v):\n",
    "    m=0\n",
    "    for i in range(len(v)):\n",
    "        m+=(v[i])**2\n",
    "    return np.sqrt(m)\n",
    "\n",
    "n= int(input(\"Inserisci la dimensione n della sfera: \"))\n",
    "R= abs(float(input(\"Inserisci il raggio R della sfera: \")))\n",
    "N= int(input(\"Inserisci la grandezza N del campione: \"))\n",
    "\n",
    "t=time()\n",
    "c=0\n",
    "for i in range(N):\n",
    "    v = R*np.random.rand(n)\n",
    "    if norm(v)<=R:\n",
    "        c+=1\n",
    "        \n",
    "M= 2**n * R**n * c/N\n",
    "μ= R**n * 2*np.pi**(n/2) / ( n*(gamma(n/2)) )\n",
    "E= 100*(M-μ)/μ\n",
    "t=time()-t\n",
    "\n",
    "print('\\nMisura stimata:      M =', round(M,5))\n",
    "print('Misura esatta:       μ =', round(μ,5))\n",
    "print('Errore percentuale:  E =', round(E,5),'%')\n",
    "print('Tempo di esecuzione: T=', round(t,5),'s')"
   ]
  },
  {
   "cell_type": "code",
   "execution_count": null,
   "metadata": {},
   "outputs": [],
   "source": []
  }
 ],
 "metadata": {
  "kernelspec": {
   "display_name": "Python 3",
   "language": "python",
   "name": "python3"
  },
  "language_info": {
   "codemirror_mode": {
    "name": "ipython",
    "version": 3
   },
   "file_extension": ".py",
   "mimetype": "text/x-python",
   "name": "python",
   "nbconvert_exporter": "python",
   "pygments_lexer": "ipython3",
   "version": "3.7.6"
  }
 },
 "nbformat": 4,
 "nbformat_minor": 4
}
