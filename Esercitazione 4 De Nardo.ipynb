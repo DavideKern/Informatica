{
 "cells": [
  {
   "cell_type": "code",
   "execution_count": null,
   "metadata": {},
   "outputs": [],
   "source": [
    "import numpy as np\n",
    "import matplotlib.pyplot as plt\n",
    "h=10**(-5)\n",
    "\n",
    "\n",
    "f=lambda x: np.sin(x)**2 * x**4/135 * np.exp(-x**2/18)\n",
    "\n",
    "g = lambda x: np.sin(2*x)*x**4/135*np.exp(-x**2/18) + np.sin(x)**2*4/135*x**3*np.exp(-x**2/18) - \\\n",
    "              np.sin(x)**2*x**5/1215*np.exp(-x**2/18)\n",
    "\n",
    "f1 = lambda x: (f(x+h)-f(x))/h\n",
    "\n",
    "f2 = lambda x: (f(x+h)-f(x-h))/(2*h)\n",
    "\n",
    "\n",
    "e1 = lambda x: f1(x)-g(x)\n",
    "\n",
    "e2 = lambda x: f2(x)-g(x)\n",
    "\n",
    "\n",
    "e1h1 = lambda x: (f1(x)-g(x))/h\n",
    "\n",
    "e2h1 = lambda x: (f2(x)-g(x))/h\n",
    "\n",
    "\n",
    "e1h2 = lambda x: (f1(x)-g(x))/h**2\n",
    "\n",
    "e2h2 = lambda x: (f2(x)-g(x))/h**2\n",
    "\n",
    "\n",
    "X=np.linspace(-15,15,5000)\n",
    "Y,Y1,Y2,G = f(X),f1(X),f2(X),g(X)\n",
    "E1,E2 = e1(X),e2(X)\n",
    "E1H1,E2H1 = e1h1(X),e2h1(X)\n",
    "E1H2,E2H2 = e1h2(X),e2h2(X)"
   ]
  },
  {
   "cell_type": "code",
   "execution_count": null,
   "metadata": {
    "scrolled": false
   },
   "outputs": [],
   "source": [
    "plt.plot(X,Y1,'blue')\n",
    "plt.plot(X,Y2,'green')\n",
    "plt.plot(X,G,'gold')\n",
    "plt.title(\"f1 in blu; f2 in verde; g in oro\",size=15)\n",
    "plt.show()\n",
    "\n",
    "plt.plot(X,E1,'blue')\n",
    "plt.plot(X,E2,'green')\n",
    "plt.title(\"e1 in blu; e2 in verde\",size=15)\n",
    "plt.show()\n",
    "\n",
    "plt.plot(X,E1H1,'blue')\n",
    "plt.plot(X,E2H1,'green')\n",
    "plt.title(\"e1h1 in blu; e2h1 in verde\",size=15)\n",
    "plt.show()\n",
    "\n",
    "plt.plot(X,E1H2,'blue')\n",
    "plt.plot(X,E2H2,'green')\n",
    "plt.title(\"e1h2 in blu; e2h2 in verde\",size=15)\n",
    "plt.show()"
   ]
  },
  {
   "cell_type": "code",
   "execution_count": null,
   "metadata": {},
   "outputs": [],
   "source": []
  }
 ],
 "metadata": {
  "kernelspec": {
   "display_name": "Python 3",
   "language": "python",
   "name": "python3"
  },
  "language_info": {
   "codemirror_mode": {
    "name": "ipython",
    "version": 3
   },
   "file_extension": ".py",
   "mimetype": "text/x-python",
   "name": "python",
   "nbconvert_exporter": "python",
   "pygments_lexer": "ipython3",
   "version": "3.7.6"
  }
 },
 "nbformat": 4,
 "nbformat_minor": 4
}
