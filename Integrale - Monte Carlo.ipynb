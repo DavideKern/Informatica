{
 "cells": [
  {
   "cell_type": "code",
   "execution_count": null,
   "metadata": {
    "scrolled": true
   },
   "outputs": [],
   "source": [
    "from random import uniform\n",
    "import numpy as np\n",
    "from time import time\n",
    "import matplotlib.pyplot as plt\n",
    "\n",
    "def f(x):   #funzione di esempio\n",
    "    return x/5 + 3*(np.sin(x))**2 + np.sqrt(x) + 6*np.exp(-x/6)\n",
    "def F(x):   #primitiva\n",
    "    return x**2/10 + 3*(x/2 - np.sin(2*x)/4) + 2/3*x**(3/2)-36*np.exp(-x/6)\n",
    "\n",
    "N=int(input(\"Inserire l'ordine di grandezza di N con cui stimare l'integrale (si consiglia di non superare 6): \"))\n",
    "N=10**N\n",
    "print(\"L'intervallo [a,b] va scelto in modo che f sia ivi positiva.\")\n",
    "a=float(input('Inserire a: '))\n",
    "b=float(input('Inserire b: '))\n",
    "while b<=a:\n",
    "    b=float(input('b deve essere maggiore di a. Inserire b: '))    \n",
    "    \n",
    "X=np.linspace(a,b,1000)\n",
    "Y=f(X)\n",
    "\n",
    "t=time()\n",
    "c=0\n",
    "for i in range(N):\n",
    "    x=uniform(a,b)\n",
    "    y=uniform(0,max(Y))\n",
    "    if y <= f(x):\n",
    "        c+=1\n",
    "A = c/N * (b-a) * max(Y)\n",
    "t=time()-t\n",
    "I = F(b)-F(a)   #Integrale esatto calcolato con la primitiva\n",
    "\n",
    "print('\\nI(stimato) =',round(A,5))\n",
    "print('I(esatto) =',round(I,5))\n",
    "print('Errore =', round(100*(A-I)/I,5),'%')\n",
    "print('Tempo di esecuzione:',round(t,5),'s.\\n')\n",
    "print(\"Segue il grafico della funzione nell'intervallo [a,b]:\")\n",
    "g=plt.plot(X,Y)"
   ]
  },
  {
   "cell_type": "code",
   "execution_count": null,
   "metadata": {},
   "outputs": [],
   "source": []
  }
 ],
 "metadata": {
  "kernelspec": {
   "display_name": "Python 3",
   "language": "python",
   "name": "python3"
  },
  "language_info": {
   "codemirror_mode": {
    "name": "ipython",
    "version": 3
   },
   "file_extension": ".py",
   "mimetype": "text/x-python",
   "name": "python",
   "nbconvert_exporter": "python",
   "pygments_lexer": "ipython3",
   "version": "3.7.6"
  }
 },
 "nbformat": 4,
 "nbformat_minor": 4
}
