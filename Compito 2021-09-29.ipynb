{
 "cells": [
  {
   "cell_type": "code",
   "execution_count": null,
   "metadata": {},
   "outputs": [],
   "source": [
    "import numpy as np\n",
    "from matplotlib.pyplot import plot as plt\n",
    "from os import remove\n",
    "\n",
    "M=10**4\n",
    "A=256*np.exp(-1/2)\n",
    "B=3\n",
    "mi=5\n",
    "sigma=1\n",
    "\n",
    "def R(x):\n",
    "    if x>=(mi-sigma):\n",
    "        return np.exp( -(x-mi)**2/(2*sigma**2) )\n",
    "    else:\n",
    "        return A/((B - (x-mi)/sigma)**4)\n",
    "\n",
    "def I(f):\n",
    "    A=0\n",
    "    dx=15/M\n",
    "    for k in range(M):\n",
    "        dA= dx/2 * (f(-5 + k*dx) + f(-5 + (k+1)*dx))\n",
    "        A+=dA\n",
    "    return A\n",
    "\n",
    "N = 1/I(R)                  #costante di normalizzazione\n",
    "\n",
    "X=np.linspace(-5,10,1000)   #colonne di X e Y\n",
    "Y=np.zeros(1000)\n",
    "for k in range(len(Y)):\n",
    "    Y[k]=N*R(X[k])\n",
    "tab=np.dstack((X,Y))\n",
    "\n",
    "def R1(x):\n",
    "    return x*R(x)\n",
    "m=N*I(R1)                   #calcolo di m\n",
    "\n",
    "def R2(x):\n",
    "    return (x-m)**2 *R(x)\n",
    "s=np.sqrt(N*I(R2))          #calcolo di s"
   ]
  },
  {
   "cell_type": "code",
   "execution_count": null,
   "metadata": {
    "scrolled": false
   },
   "outputs": [],
   "source": [
    "print('La costante di normalizzazione è pari a:\\nN =',round(N,5),'\\n')\n",
    "print('Il file di testo con le colonne X e Y=R(X) sarà generato come \"tabella.txt\".\\n')\n",
    "\n",
    "text=open(\"tabella.txt\",\"w\")\n",
    "text.write('Colonna X   -   Colonna Y=R(X)\\n\\n')\n",
    "for i in range(1000):\n",
    "    text.write(str(round(X[i],7))+'   -   '+str(round(Y[i],7))+'\\n')\n",
    "text.close()"
   ]
  },
  {
   "cell_type": "code",
   "execution_count": null,
   "metadata": {
    "scrolled": true
   },
   "outputs": [],
   "source": [
    "print('Segue il grafico della distribuzione R(x) in [-5,10]:')\n",
    "z=plt(X,Y,'blue')"
   ]
  },
  {
   "cell_type": "code",
   "execution_count": null,
   "metadata": {
    "scrolled": false
   },
   "outputs": [],
   "source": [
    "print('Seguono il valor medio m e la deviazione standard s delle misure:')\n",
    "print('m =',round(m,5),'\\ns =',round(s,5))\n",
    "print('Notiamo che m < 5, s > 1.')"
   ]
  }
 ],
 "metadata": {
  "kernelspec": {
   "display_name": "Python 3",
   "language": "python",
   "name": "python3"
  },
  "language_info": {
   "codemirror_mode": {
    "name": "ipython",
    "version": 3
   },
   "file_extension": ".py",
   "mimetype": "text/x-python",
   "name": "python",
   "nbconvert_exporter": "python",
   "pygments_lexer": "ipython3",
   "version": "3.7.6"
  }
 },
 "nbformat": 4,
 "nbformat_minor": 4
}
