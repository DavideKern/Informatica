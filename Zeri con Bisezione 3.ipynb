{
 "cells": [
  {
   "cell_type": "code",
   "execution_count": 1,
   "metadata": {},
   "outputs": [],
   "source": [
    "import numpy as np\n",
    "import matplotlib.pyplot as plt\n",
    "eps=10**(-10)\n",
    "\n",
    "\n",
    "def Z(f,a,b):\n",
    "    Z=[]\n",
    "    n=int((b-a)*20)\n",
    "    d=(b-a)/n\n",
    "    \n",
    "    for k in range(n):\n",
    "        ak = a + k*d\n",
    "        bk = ak + d\n",
    "        b0 = bk\n",
    "        if abs(f(ak))<eps:\n",
    "            Z.append(round(ak,5))\n",
    "            ak+=eps\n",
    "            \n",
    "        while abs(bk-ak) >= eps:\n",
    "            ck = (ak+bk)/2\n",
    "            if abs(f(ck))<eps:\n",
    "                Z.append(round(ck,5))\n",
    "                break\n",
    "            elif f(ak)*f(ck) < 0:\n",
    "                bk=ck\n",
    "            else:\n",
    "                ak=ck\n",
    "        \n",
    "        if abs(ck-b0)>=eps:\n",
    "            Z.append(round(ck,5))\n",
    "            \n",
    "    if abs(f(b))<eps:\n",
    "        Z.append(b)\n",
    "        \n",
    "    return Z\n",
    "\n",
    "def f(x):\n",
    "    return (x-1)*(x-2)*(x-3)*np.sin(10*x)\n",
    "\n",
    "a=0\n",
    "b=3"
   ]
  },
  {
   "cell_type": "code",
   "execution_count": 2,
   "metadata": {
    "scrolled": true
   },
   "outputs": [
    {
     "data": {
      "image/png": "[encoded data removed]",
      "text/plain": [
       "<Figure size 432x288 with 1 Axes>"
      ]
     },
     "metadata": {
      "needs_background": "light"
     },
     "output_type": "display_data"
    },
    {
     "name": "stdout",
     "output_type": "stream",
     "text": [
      "0.0\n",
      "0.31416\n",
      "0.62832\n",
      "0.94248\n",
      "0.94248\n",
      "1.0\n",
      "1.25664\n",
      "1.5708\n",
      "1.88496\n",
      "1.88496\n",
      "2.0\n",
      "2.0\n",
      "2.19911\n",
      "2.19911\n",
      "2.51327\n",
      "2.51327\n",
      "2.82743\n",
      "2.82743\n",
      "3.0\n"
     ]
    }
   ],
   "source": [
    "N=int((b-a)*1000)\n",
    "X=np.linspace(a,b,N)\n",
    "Y=f(X)\n",
    "\n",
    "Xz=np.array(Z(f,a,b))\n",
    "Yz=f(Xz)\n",
    "\n",
    "plt.plot(X,Y,'red')\n",
    "plt.plot(Xz,Yz,'o:',color='blue')\n",
    "plt.title('y = f(x)',color='red',size=16)\n",
    "plt.show()\n",
    "\n",
    "for k in range(len(Xz)):\n",
    "    print(Xz[k])\n",
    "\n",
    "#non ho risolto il problema dei doppioni"
   ]
  }
 ],
 "metadata": {
  "kernelspec": {
   "display_name": "Python 3",
   "language": "python",
   "name": "python3"
  },
  "language_info": {
   "codemirror_mode": {
    "name": "ipython",
    "version": 3
   },
   "file_extension": ".py",
   "mimetype": "text/x-python",
   "name": "python",
   "nbconvert_exporter": "python",
   "pygments_lexer": "ipython3",
   "version": "3.7.6"
  }
 },
 "nbformat": 4,
 "nbformat_minor": 4
}
